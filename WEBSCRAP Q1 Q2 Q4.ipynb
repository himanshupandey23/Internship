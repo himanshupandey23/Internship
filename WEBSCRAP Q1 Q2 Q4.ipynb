{
 "cells": [
  {
   "cell_type": "markdown",
   "metadata": {},
   "source": [
    "# . Write a python program to display all the header tags from‘en.wikipedia.org/wiki/Main_Page’."
   ]
  },
  {
   "cell_type": "code",
   "execution_count": 7,
   "metadata": {},
   "outputs": [],
   "source": [
    "import pandas as pd\n",
    "from bs4 import BeautifulSoup\n",
    "import requests\n",
    "from lxml import html"
   ]
  },
  {
   "cell_type": "code",
   "execution_count": 8,
   "metadata": {},
   "outputs": [
    {
     "data": {
      "text/plain": [
       "<Response [200]>"
      ]
     },
     "execution_count": 8,
     "metadata": {},
     "output_type": "execute_result"
    }
   ],
   "source": [
    "wikipage=requests.get(\"https://en.wikipedia.org/wiki/Main_Page\")\n",
    "wikipage"
   ]
  },
  {
   "cell_type": "code",
   "execution_count": null,
   "metadata": {},
   "outputs": [],
   "source": [
    "wikipage.content"
   ]
  },
  {
   "cell_type": "code",
   "execution_count": null,
   "metadata": {},
   "outputs": [],
   "source": [
    "soup = BeautifulSoup(wikipage.content)\n",
    "soup"
   ]
  },
  {
   "cell_type": "code",
   "execution_count": null,
   "metadata": {},
   "outputs": [],
   "source": [
    "print(soup.prettify)"
   ]
  },
  {
   "cell_type": "code",
   "execution_count": 12,
   "metadata": {},
   "outputs": [
    {
     "data": {
      "text/plain": [
       "[<span class=\"mw-headline\" id=\"From_today's_featured_article\">From today's featured article</span>,\n",
       " <span class=\"mw-headline\" id=\"Did_you_know_...\">Did you know ...</span>,\n",
       " <span class=\"mw-headline\" id=\"In_the_news\">In the news</span>,\n",
       " <span class=\"mw-headline\" id=\"On_this_day\">On this day</span>,\n",
       " <span class=\"mw-headline\" id=\"Today's_featured_picture\">Today's featured picture</span>,\n",
       " <span class=\"mw-headline\" id=\"Other_areas_of_Wikipedia\">Other areas of Wikipedia</span>,\n",
       " <span class=\"mw-headline\" id=\"Wikipedia's_sister_projects\">Wikipedia's sister projects</span>,\n",
       " <span class=\"mw-headline\" id=\"Wikipedia_languages\">Wikipedia languages</span>]"
      ]
     },
     "execution_count": 12,
     "metadata": {},
     "output_type": "execute_result"
    }
   ],
   "source": [
    "headers=soup.find_all('span',class_='mw-headline')\n",
    "headers"
   ]
  },
  {
   "cell_type": "code",
   "execution_count": 13,
   "metadata": {},
   "outputs": [
    {
     "data": {
      "text/plain": [
       "[\"From today's featured article\",\n",
       " 'Did you know\\xa0...',\n",
       " 'In the news',\n",
       " 'On this day',\n",
       " \"Today's featured picture\",\n",
       " 'Other areas of Wikipedia',\n",
       " \"Wikipedia's sister projects\",\n",
       " 'Wikipedia languages']"
      ]
     },
     "execution_count": 13,
     "metadata": {},
     "output_type": "execute_result"
    }
   ],
   "source": [
    "wiki_headers = []\n",
    "for i in headers:\n",
    "    wiki_headers.append(i.text.strip())\n",
    "wiki_headers"
   ]
  },
  {
   "cell_type": "code",
   "execution_count": 14,
   "metadata": {},
   "outputs": [
    {
     "data": {
      "text/plain": [
       "['h1 Main Page',\n",
       " \"h2 From today's featured article\",\n",
       " 'h2 Did you know\\xa0...',\n",
       " 'h2 In the news',\n",
       " 'h2 On this day',\n",
       " \"h2 Today's featured picture\",\n",
       " 'h2 Other areas of Wikipedia',\n",
       " \"h2 Wikipedia's sister projects\",\n",
       " 'h2 Wikipedia languages',\n",
       " 'h2 Navigation menu',\n",
       " 'h3 Personal tools',\n",
       " 'h3 Namespaces',\n",
       " 'h3 Variants\\nexpanded\\ncollapsed',\n",
       " 'h3 Views',\n",
       " 'h3 More\\nexpanded\\ncollapsed',\n",
       " 'h3 Search',\n",
       " 'h3 Navigation',\n",
       " 'h3 Contribute',\n",
       " 'h3 Tools',\n",
       " 'h3 Print/export',\n",
       " 'h3 In other projects',\n",
       " 'h3 Languages']"
      ]
     },
     "execution_count": 14,
     "metadata": {},
     "output_type": "execute_result"
    }
   ],
   "source": [
    "headertag=pd.DataFrame({})\n",
    "headertag['Headertag']=wiki_headers\n",
    "headertag\n",
    "header_tags = [] # empty list \n",
    "\n",
    "for header in soup.find_all([\"h1\",\"h2\",\"h3\",\"h4\",\"h5\",\"h6\"]):\n",
    "\n",
    "    header_tags.append(header.name+\" \"+header.text.strip())\n",
    "header_tags\n"
   ]
  },
  {
   "cell_type": "markdown",
   "metadata": {},
   "source": [
    "# Q2 write a python program to display IMDB’s Top rated 100 movies’ data (i.e. Name, IMDB rating, Year of Release\n",
    "\n",
    "\n"
   ]
  },
  {
   "cell_type": "code",
   "execution_count": 62,
   "metadata": {},
   "outputs": [],
   "source": [
    "import pandas as pd \n",
    "from bs4 import BeautifulSoup\n",
    "import requests\n",
    "from lxml import html"
   ]
  },
  {
   "cell_type": "code",
   "execution_count": 63,
   "metadata": {},
   "outputs": [
    {
     "data": {
      "text/plain": [
       "<Response [200]>"
      ]
     },
     "execution_count": 63,
     "metadata": {},
     "output_type": "execute_result"
    }
   ],
   "source": [
    "top100IMDB=requests.get(\"https://www.imdb.com/list/ls055592025/\")\n",
    "top100IMDB"
   ]
  },
  {
   "cell_type": "code",
   "execution_count": null,
   "metadata": {},
   "outputs": [],
   "source": [
    "top100IMDB.content"
   ]
  },
  {
   "cell_type": "code",
   "execution_count": null,
   "metadata": {},
   "outputs": [],
   "source": [
    "soup=BeautifulSoup(top100IMDB.content)\n",
    "soup"
   ]
  },
  {
   "cell_type": "code",
   "execution_count": null,
   "metadata": {},
   "outputs": [],
   "source": [
    "print(soup.prettify)"
   ]
  },
  {
   "cell_type": "code",
   "execution_count": null,
   "metadata": {},
   "outputs": [],
   "source": [
    "movies_name=soup.find_all('h3',class_=\"lister-item-header\")\n",
    "movies_name\n",
    "                    "
   ]
  },
  {
   "cell_type": "code",
   "execution_count": 68,
   "metadata": {},
   "outputs": [
    {
     "data": {
      "text/plain": [
       "['The Godfather',\n",
       " 'The Shawshank Redemption',\n",
       " \"Schindler's List\",\n",
       " 'Raging Bull',\n",
       " 'Casablanca',\n",
       " 'Citizen Kane',\n",
       " 'Gone with the Wind',\n",
       " 'The Wizard of Oz',\n",
       " \"One Flew Over the Cuckoo's Nest\",\n",
       " 'Lawrence of Arabia',\n",
       " 'Vertigo',\n",
       " 'Psycho',\n",
       " 'The Godfather: Part II',\n",
       " 'On the Waterfront',\n",
       " 'Sunset Blvd.',\n",
       " 'Forrest Gump',\n",
       " 'The Sound of Music',\n",
       " '12 Angry Men',\n",
       " 'West Side Story',\n",
       " 'Star Wars',\n",
       " '2001: A Space Odyssey',\n",
       " 'E.T. the Extra-Terrestrial',\n",
       " 'The Silence of the Lambs',\n",
       " 'Chinatown',\n",
       " 'The Bridge on the River Kwai',\n",
       " \"Singin' in the Rain\",\n",
       " \"It's a Wonderful Life\",\n",
       " 'Dr. Strangelove or: How I Learned to Stop Worrying and Love the Bomb',\n",
       " 'Some Like It Hot',\n",
       " 'Ben-Hur',\n",
       " 'Apocalypse Now',\n",
       " 'Amadeus',\n",
       " 'The Lord of the Rings: The Return of the King',\n",
       " 'Gladiator',\n",
       " 'Titanic',\n",
       " 'From Here to Eternity',\n",
       " 'Saving Private Ryan',\n",
       " 'Unforgiven',\n",
       " 'Raiders of the Lost Ark',\n",
       " 'Rocky',\n",
       " 'A Streetcar Named Desire',\n",
       " 'The Philadelphia Story',\n",
       " 'To Kill a Mockingbird',\n",
       " 'An American in Paris',\n",
       " 'The Best Years of Our Lives',\n",
       " 'My Fair Lady',\n",
       " 'A Clockwork Orange',\n",
       " 'Doctor Zhivago',\n",
       " 'The Searchers',\n",
       " 'Jaws',\n",
       " 'Patton',\n",
       " 'Butch Cassidy and the Sundance Kid',\n",
       " 'The Treasure of the Sierra Madre',\n",
       " 'Il buono, il brutto, il cattivo',\n",
       " 'The Apartment',\n",
       " 'Platoon',\n",
       " 'High Noon',\n",
       " 'Braveheart',\n",
       " 'Dances with Wolves',\n",
       " 'Jurassic Park',\n",
       " 'The Exorcist',\n",
       " 'The Pianist',\n",
       " 'Goodfellas',\n",
       " 'The Deer Hunter',\n",
       " 'All Quiet on the Western Front',\n",
       " 'Bonnie and Clyde',\n",
       " 'The French Connection',\n",
       " 'City Lights',\n",
       " 'It Happened One Night',\n",
       " 'A Place in the Sun',\n",
       " 'Midnight Cowboy',\n",
       " 'Mr. Smith Goes to Washington',\n",
       " 'Rain Man',\n",
       " 'Annie Hall',\n",
       " 'Fargo',\n",
       " 'Giant',\n",
       " 'Shane',\n",
       " 'The Grapes of Wrath',\n",
       " 'The Green Mile',\n",
       " 'Close Encounters of the Third Kind',\n",
       " 'Nashville',\n",
       " 'Network',\n",
       " 'The Graduate',\n",
       " 'American Graffiti',\n",
       " 'Pulp Fiction',\n",
       " 'Terms of Endearment',\n",
       " 'Good Will Hunting',\n",
       " 'The African Queen',\n",
       " 'Stagecoach',\n",
       " 'Mutiny on the Bounty',\n",
       " 'The Great Dictator',\n",
       " 'Double Indemnity',\n",
       " 'The Maltese Falcon',\n",
       " 'Wuthering Heights',\n",
       " 'Taxi Driver',\n",
       " 'Rear Window',\n",
       " 'The Third Man',\n",
       " 'Rebel Without a Cause',\n",
       " 'North by Northwest',\n",
       " 'Yankee Doodle Dandy']"
      ]
     },
     "execution_count": 68,
     "metadata": {},
     "output_type": "execute_result"
    }
   ],
   "source": [
    "top_movies=[]\n",
    "for i in movies_name:\n",
    "    for j in i.find_all('a'):\n",
    "        \n",
    "     \n",
    "         top_movies.append(j.text.replace('\\n',''))\n",
    "top_movies\n",
    "    \n",
    "    "
   ]
  },
  {
   "cell_type": "code",
   "execution_count": null,
   "metadata": {},
   "outputs": [],
   "source": [
    "year_release=soup.find_all('span',class_='lister-item-year text-muted unbold')\n",
    "year_release"
   ]
  },
  {
   "cell_type": "code",
   "execution_count": 70,
   "metadata": {},
   "outputs": [
    {
     "data": {
      "text/plain": [
       "['(1972)',\n",
       " '(1994)',\n",
       " '(1993)',\n",
       " '(1980)',\n",
       " '(1942)',\n",
       " '(1941)',\n",
       " '(1939)',\n",
       " '(1939)',\n",
       " '(1975)',\n",
       " '(1962)',\n",
       " '(1958)',\n",
       " '(1960)',\n",
       " '(1974)',\n",
       " '(1954)',\n",
       " '(1950)',\n",
       " '(1994)',\n",
       " '(1965)',\n",
       " '(1957)',\n",
       " '(1961)',\n",
       " '(1977)',\n",
       " '(1968)',\n",
       " '(1982)',\n",
       " '(1991)',\n",
       " '(1974)',\n",
       " '(1957)',\n",
       " '(1952)',\n",
       " '(1946)',\n",
       " '(1964)',\n",
       " '(1959)',\n",
       " '(1959)',\n",
       " '(1979)',\n",
       " '(1984)',\n",
       " '(2003)',\n",
       " '(2000)',\n",
       " '(1997)',\n",
       " '(1953)',\n",
       " '(1998)',\n",
       " '(1992)',\n",
       " '(1981)',\n",
       " '(1976)',\n",
       " '(1951)',\n",
       " '(1940)',\n",
       " '(1962)',\n",
       " '(1951)',\n",
       " '(1946)',\n",
       " '(1964)',\n",
       " '(1971)',\n",
       " '(1965)',\n",
       " '(1956)',\n",
       " '(1975)',\n",
       " '(1970)',\n",
       " '(1969)',\n",
       " '(1948)',\n",
       " '(1966)',\n",
       " '(1960)',\n",
       " '(1986)',\n",
       " '(1952)',\n",
       " '(1995)',\n",
       " '(1990)',\n",
       " '(1993)',\n",
       " '(1973)',\n",
       " '(2002)',\n",
       " '(1990)',\n",
       " '(1978)',\n",
       " '(1930)',\n",
       " '(1967)',\n",
       " '(1971)',\n",
       " '(1931)',\n",
       " '(1934)',\n",
       " '(1951)',\n",
       " '(1969)',\n",
       " '(1939)',\n",
       " '(1988)',\n",
       " '(1977)',\n",
       " '(1996)',\n",
       " '(1956)',\n",
       " '(1953)',\n",
       " '(1940)',\n",
       " '(1999)',\n",
       " '(1977)',\n",
       " '(1975)',\n",
       " '(1976)',\n",
       " '(1967)',\n",
       " '(1973)',\n",
       " '(1994)',\n",
       " '(1983)',\n",
       " '(1997)',\n",
       " '(1951)',\n",
       " '(1939)',\n",
       " '(1935)',\n",
       " '(1940)',\n",
       " '(1944)',\n",
       " '(1941)',\n",
       " '(1939)',\n",
       " '(1976)',\n",
       " '(1954)',\n",
       " '(1949)',\n",
       " '(1955)',\n",
       " '(1959)',\n",
       " '(1942)']"
      ]
     },
     "execution_count": 70,
     "metadata": {},
     "output_type": "execute_result"
    }
   ],
   "source": [
    "YROFREL=[]\n",
    "for i in year_release:\n",
    "    YROFREL.append(i.text.strip())\n",
    "YROFREL\n",
    "    \n"
   ]
  },
  {
   "cell_type": "code",
   "execution_count": null,
   "metadata": {},
   "outputs": [],
   "source": [
    "IMDB_rating=soup.find_all('div',class_='ipl-rating-star small')\n",
    "IMDB_rating"
   ]
  },
  {
   "cell_type": "code",
   "execution_count": 72,
   "metadata": {},
   "outputs": [
    {
     "data": {
      "text/plain": [
       "['9.2',\n",
       " '9.3',\n",
       " '8.9',\n",
       " '8.2',\n",
       " '8.5',\n",
       " '8.3',\n",
       " '8.1',\n",
       " '8',\n",
       " '8.7',\n",
       " '8.3',\n",
       " '8.3',\n",
       " '8.5',\n",
       " '9',\n",
       " '8.1',\n",
       " '8.4',\n",
       " '8.8',\n",
       " '8',\n",
       " '9',\n",
       " '7.5',\n",
       " '8.6',\n",
       " '8.3',\n",
       " '7.8',\n",
       " '8.6',\n",
       " '8.2',\n",
       " '8.1',\n",
       " '8.3',\n",
       " '8.6',\n",
       " '8.4',\n",
       " '8.2',\n",
       " '8.1',\n",
       " '8.4',\n",
       " '8.3',\n",
       " '8.9',\n",
       " '8.5',\n",
       " '7.8',\n",
       " '7.6',\n",
       " '8.6',\n",
       " '8.2',\n",
       " '8.4',\n",
       " '8.1',\n",
       " '8',\n",
       " '7.9',\n",
       " '8.3',\n",
       " '7.2',\n",
       " '8.1',\n",
       " '7.8',\n",
       " '8.3',\n",
       " '8',\n",
       " '7.9',\n",
       " '8',\n",
       " '7.9',\n",
       " '8',\n",
       " '8.2',\n",
       " '8.8',\n",
       " '8.3',\n",
       " '8.1',\n",
       " '8',\n",
       " '8.3',\n",
       " '8',\n",
       " '8.1',\n",
       " '8',\n",
       " '8.5',\n",
       " '8.7',\n",
       " '8.1',\n",
       " '8.1',\n",
       " '7.8',\n",
       " '7.7',\n",
       " '8.5',\n",
       " '8.1',\n",
       " '7.8',\n",
       " '7.8',\n",
       " '8.1',\n",
       " '8',\n",
       " '8',\n",
       " '8.1',\n",
       " '7.6',\n",
       " '7.6',\n",
       " '8.1',\n",
       " '8.6',\n",
       " '7.6',\n",
       " '7.7',\n",
       " '8.1',\n",
       " '8',\n",
       " '7.4',\n",
       " '8.9',\n",
       " '7.4',\n",
       " '8.3',\n",
       " '7.8',\n",
       " '7.9',\n",
       " '7.7',\n",
       " '8.4',\n",
       " '8.3',\n",
       " '8',\n",
       " '7.6',\n",
       " '8.2',\n",
       " '8.5',\n",
       " '8.1',\n",
       " '7.7',\n",
       " '8.3',\n",
       " '7.7']"
      ]
     },
     "execution_count": 72,
     "metadata": {},
     "output_type": "execute_result"
    }
   ],
   "source": [
    "rating_movies=[]\n",
    "for i in IMDB_rating:\n",
    "    rating_movies.append(i.text.strip())\n",
    "rating_movies"
   ]
  },
  {
   "cell_type": "code",
   "execution_count": 73,
   "metadata": {},
   "outputs": [
    {
     "data": {
      "text/html": [
       "<div>\n",
       "<style scoped>\n",
       "    .dataframe tbody tr th:only-of-type {\n",
       "        vertical-align: middle;\n",
       "    }\n",
       "\n",
       "    .dataframe tbody tr th {\n",
       "        vertical-align: top;\n",
       "    }\n",
       "\n",
       "    .dataframe thead th {\n",
       "        text-align: right;\n",
       "    }\n",
       "</style>\n",
       "<table border=\"1\" class=\"dataframe\">\n",
       "  <thead>\n",
       "    <tr style=\"text-align: right;\">\n",
       "      <th></th>\n",
       "      <th>TOP100 movies</th>\n",
       "      <th>IMDB rating</th>\n",
       "      <th>Year of release</th>\n",
       "    </tr>\n",
       "  </thead>\n",
       "  <tbody>\n",
       "    <tr>\n",
       "      <th>0</th>\n",
       "      <td>The Godfather</td>\n",
       "      <td>9.2</td>\n",
       "      <td>(1972)</td>\n",
       "    </tr>\n",
       "    <tr>\n",
       "      <th>1</th>\n",
       "      <td>The Shawshank Redemption</td>\n",
       "      <td>9.3</td>\n",
       "      <td>(1994)</td>\n",
       "    </tr>\n",
       "    <tr>\n",
       "      <th>2</th>\n",
       "      <td>Schindler's List</td>\n",
       "      <td>8.9</td>\n",
       "      <td>(1993)</td>\n",
       "    </tr>\n",
       "    <tr>\n",
       "      <th>3</th>\n",
       "      <td>Raging Bull</td>\n",
       "      <td>8.2</td>\n",
       "      <td>(1980)</td>\n",
       "    </tr>\n",
       "    <tr>\n",
       "      <th>4</th>\n",
       "      <td>Casablanca</td>\n",
       "      <td>8.5</td>\n",
       "      <td>(1942)</td>\n",
       "    </tr>\n",
       "    <tr>\n",
       "      <th>...</th>\n",
       "      <td>...</td>\n",
       "      <td>...</td>\n",
       "      <td>...</td>\n",
       "    </tr>\n",
       "    <tr>\n",
       "      <th>95</th>\n",
       "      <td>Rear Window</td>\n",
       "      <td>8.5</td>\n",
       "      <td>(1954)</td>\n",
       "    </tr>\n",
       "    <tr>\n",
       "      <th>96</th>\n",
       "      <td>The Third Man</td>\n",
       "      <td>8.1</td>\n",
       "      <td>(1949)</td>\n",
       "    </tr>\n",
       "    <tr>\n",
       "      <th>97</th>\n",
       "      <td>Rebel Without a Cause</td>\n",
       "      <td>7.7</td>\n",
       "      <td>(1955)</td>\n",
       "    </tr>\n",
       "    <tr>\n",
       "      <th>98</th>\n",
       "      <td>North by Northwest</td>\n",
       "      <td>8.3</td>\n",
       "      <td>(1959)</td>\n",
       "    </tr>\n",
       "    <tr>\n",
       "      <th>99</th>\n",
       "      <td>Yankee Doodle Dandy</td>\n",
       "      <td>7.7</td>\n",
       "      <td>(1942)</td>\n",
       "    </tr>\n",
       "  </tbody>\n",
       "</table>\n",
       "<p>100 rows × 3 columns</p>\n",
       "</div>"
      ],
      "text/plain": [
       "               TOP100 movies IMDB rating Year of release\n",
       "0              The Godfather         9.2          (1972)\n",
       "1   The Shawshank Redemption         9.3          (1994)\n",
       "2           Schindler's List         8.9          (1993)\n",
       "3                Raging Bull         8.2          (1980)\n",
       "4                 Casablanca         8.5          (1942)\n",
       "..                       ...         ...             ...\n",
       "95               Rear Window         8.5          (1954)\n",
       "96             The Third Man         8.1          (1949)\n",
       "97     Rebel Without a Cause         7.7          (1955)\n",
       "98        North by Northwest         8.3          (1959)\n",
       "99       Yankee Doodle Dandy         7.7          (1942)\n",
       "\n",
       "[100 rows x 3 columns]"
      ]
     },
     "execution_count": 73,
     "metadata": {},
     "output_type": "execute_result"
    }
   ],
   "source": [
    "topmovies=pd.DataFrame({})\n",
    "topmovies['TOP100 movies']=top_movies\n",
    "topmovies['IMDB rating']=rating_movies\n",
    "topmovies['Year of release']=YROFREL\n",
    "topmovies"
   ]
  },
  {
   "cell_type": "markdown",
   "metadata": {},
   "source": [
    "# Q4 Write a python program to scrap book name, author name, genre and book review of any 5 books from www.bookpage\n"
   ]
  },
  {
   "cell_type": "code",
   "execution_count": 75,
   "metadata": {},
   "outputs": [],
   "source": [
    "import pandas as pd \n",
    "from bs4 import BeautifulSoup\n",
    "import requests\n",
    "from lxml import html"
   ]
  },
  {
   "cell_type": "code",
   "execution_count": 76,
   "metadata": {},
   "outputs": [],
   "source": [
    "import urllib.request\n",
    "main_url = 'https://bookpage.com/reviews'\n",
    "sauce = urllib.request.urlopen(main_url).read()\n",
    "\n",
    "soup = BeautifulSoup(sauce,'html.parser')"
   ]
  },
  {
   "cell_type": "code",
   "execution_count": 77,
   "metadata": {},
   "outputs": [
    {
     "data": {
      "text/plain": [
       "[<h4 class=\"italic\">\n",
       " <a href=\"/reviews/26646-amia-srinivasan-right-to-sex-nonfiction\"> <span style=\"font-style:normal;\">★ </span>The Right to Sex</a>\n",
       " </h4>,\n",
       " <h4 class=\"italic\">\n",
       " <a href=\"/reviews/26656-brandy-colbert-black-birds-sky-ya\"> <span style=\"font-style:normal;\">★ </span>Black Birds in the Sky</a>\n",
       " </h4>,\n",
       " <h4 class=\"italic\">\n",
       " <a href=\"/reviews/26702-aliya-king-neil-keep-your-head-up-childrens\">Keep Your Head Up</a>\n",
       " </h4>,\n",
       " <h4 class=\"italic\">\n",
       " <a href=\"/reviews/26645-joseph-j-ellis-cause-history\"> <span style=\"font-style:normal;\">★ </span>The Cause</a>\n",
       " </h4>,\n",
       " <h4 class=\"italic\">\n",
       " <a href=\"/reviews/26665-ruth-ozeki-book-form-emptiness-fiction\"> <span style=\"font-style:normal;\">★ </span>The Book of Form and Emptiness</a>\n",
       " </h4>,\n",
       " <h4 class=\"italic\">\n",
       " <a href=\"/reviews/26715-craig-johnson-daughter-morning-star-mystery-suspense\">Daughter of the Morning Star</a>\n",
       " </h4>,\n",
       " <h4 class=\"italic\">\n",
       " <a href=\"/reviews/26652-john-lewis-carry-audio\"> <span style=\"font-style:normal;\">★ </span>Carry On</a>\n",
       " </h4>,\n",
       " <h4 class=\"italic\">\n",
       " <a href=\"/reviews/26670-karl-ove-knausgaard-morning-star-fiction\">The Morning Star</a>\n",
       " </h4>,\n",
       " <h4 class=\"italic\">\n",
       " <a href=\"/reviews/26716-kate-dicamillo-beatryce-prophecy-childrens\"> <span style=\"font-style:normal;\">★ </span>The Beatryce Prophecy</a>\n",
       " </h4>,\n",
       " <h4 class=\"italic\">\n",
       " <a href=\"/reviews/26672-rabih-alameddine-wrong-end-telescope-fiction\">The Wrong End of the Telescope</a>\n",
       " </h4>]"
      ]
     },
     "execution_count": 77,
     "metadata": {},
     "output_type": "execute_result"
    }
   ],
   "source": [
    "bookname=soup.find_all('h4',class_='italic')\n",
    "bookname"
   ]
  },
  {
   "cell_type": "code",
   "execution_count": 31,
   "metadata": {},
   "outputs": [
    {
     "data": {
      "text/plain": [
       "['Keep Your Head Up',\n",
       " '★ The Cause',\n",
       " '★ The Book of Form and Emptiness',\n",
       " 'Daughter of the Morning Star',\n",
       " '★ Carry On']"
      ]
     },
     "execution_count": 31,
     "metadata": {},
     "output_type": "execute_result"
    }
   ],
   "source": [
    "book_name=[]\n",
    "for i in bookname[:5]:\n",
    "    book_name.append(i.text.strip())\n",
    "book_name"
   ]
  },
  {
   "cell_type": "code",
   "execution_count": 32,
   "metadata": {},
   "outputs": [
    {
     "data": {
      "text/plain": [
       "[<p class=\"sans bold\">\n",
       " Aliya King Neil, Charly Palmer\n",
       " </p>,\n",
       " <p class=\"sans bold\">\n",
       " Joseph J. Ellis\n",
       " </p>,\n",
       " <p class=\"sans bold\">\n",
       " Ruth Ozeki\n",
       " </p>,\n",
       " <p class=\"sans bold\">\n",
       " Craig Johnson\n",
       " </p>,\n",
       " <p class=\"sans bold\">\n",
       " John Lewis, Don Cheadle\n",
       " </p>,\n",
       " <p class=\"sans bold\">\n",
       " Karl Ove Knausgaard, Martin Aitken\n",
       " </p>,\n",
       " <p class=\"sans bold\">\n",
       " Kate DiCamillo, Sophie Blackall\n",
       " </p>,\n",
       " <p class=\"sans bold\">\n",
       " Rabih Alameddine\n",
       " </p>,\n",
       " <p class=\"sans bold\">\n",
       " Rick Bragg\n",
       " </p>,\n",
       " <p class=\"sans bold\">\n",
       " Phoebe Wahl\n",
       " </p>]"
      ]
     },
     "execution_count": 32,
     "metadata": {},
     "output_type": "execute_result"
    }
   ],
   "source": [
    "bookauthor=soup.find_all('p',class_='sans bold')\n",
    "bookauthor"
   ]
  },
  {
   "cell_type": "code",
   "execution_count": 33,
   "metadata": {},
   "outputs": [
    {
     "data": {
      "text/plain": [
       "['Aliya King Neil, Charly Palmer',\n",
       " 'Joseph J. Ellis',\n",
       " 'Ruth Ozeki',\n",
       " 'Craig Johnson',\n",
       " 'John Lewis, Don Cheadle']"
      ]
     },
     "execution_count": 33,
     "metadata": {},
     "output_type": "execute_result"
    }
   ],
   "source": [
    "book_author=[]\n",
    "for i in bookauthor[:5]:\n",
    "    book_author.append(i.text.strip())\n",
    "book_author"
   ]
  },
  {
   "cell_type": "code",
   "execution_count": 34,
   "metadata": {},
   "outputs": [
    {
     "data": {
      "text/plain": [
       "[<p class=\"genre-links hidden-phone\">\n",
       " <a href=\"/search?book_genre=children_s\">Children's</a>\n",
       "  / \n",
       " <a href=\"/search?book_genre=picture_book\">Picture Book</a>\n",
       " </p>,\n",
       " <p class=\"genre-links hidden-phone\">\n",
       " <a href=\"/search?book_genre=nonfiction\">Nonfiction</a>\n",
       "  / \n",
       " <a href=\"/search?book_genre=history\">History</a>\n",
       "  / \n",
       " <a href=\"/search?book_genre=american_history\">American History</a>\n",
       " </p>,\n",
       " <p class=\"genre-links hidden-phone\">\n",
       " <a href=\"/search?book_genre=fiction\">Fiction</a>\n",
       "  / \n",
       " <a href=\"/search?book_genre=literary_fiction\">Literary Fiction</a>\n",
       " </p>,\n",
       " <p class=\"genre-links hidden-phone\">\n",
       " <a href=\"/search?book_genre=mystery_suspense\">Mystery &amp; Suspense</a>\n",
       "  / \n",
       " <a href=\"/search?book_genre=mystery\">Mystery</a>\n",
       " </p>,\n",
       " <p class=\"genre-links hidden-phone\">\n",
       " <a href=\"/search?book_genre=audio\">Audio</a>\n",
       "  / \n",
       " <a href=\"/search?book_genre=nonfiction\">Nonfiction</a>\n",
       "  / \n",
       " <a href=\"/search?book_genre=essays\">Essays</a>\n",
       " </p>,\n",
       " <p class=\"genre-links hidden-phone\">\n",
       " <a href=\"/search?book_genre=fiction\">Fiction</a>\n",
       "  / \n",
       " <a href=\"/search?book_genre=literary_fiction\">Literary Fiction</a>\n",
       " </p>,\n",
       " <p class=\"genre-links hidden-phone\">\n",
       " <a href=\"/search?book_genre=children_s\">Children's</a>\n",
       "  / \n",
       " <a href=\"/search?book_genre=middle_grade\">Middle Grade</a>\n",
       " </p>,\n",
       " <p class=\"genre-links hidden-phone\">\n",
       " <a href=\"/search?book_genre=fiction\">Fiction</a>\n",
       "  / \n",
       " <a href=\"/search?book_genre=literary_fiction\">Literary Fiction</a>\n",
       " </p>,\n",
       " <p class=\"genre-links hidden-phone\">\n",
       " <a href=\"/search?book_genre=nonfiction\">Nonfiction</a>\n",
       "  / \n",
       " <a href=\"/search?book_genre=memoir\">Memoir</a>\n",
       "  / \n",
       " <a href=\"/search?book_genre=animals\">Animals</a>\n",
       " </p>,\n",
       " <p class=\"genre-links hidden-phone\">\n",
       " <a href=\"/search?book_genre=children_s\">Children's</a>\n",
       "  / \n",
       " <a href=\"/search?book_genre=picture_book\">Picture Book</a>\n",
       " </p>]"
      ]
     },
     "execution_count": 34,
     "metadata": {},
     "output_type": "execute_result"
    }
   ],
   "source": [
    "bookgenre=soup.find_all('p',class_='genre-links hidden-phone')\n",
    "bookgenre"
   ]
  },
  {
   "cell_type": "code",
   "execution_count": 40,
   "metadata": {},
   "outputs": [],
   "source": [
    "book_genre=[]\n",
    "for i in bookgenre[:5]:\n",
    "    book_genre.append(i.text.replace('\\n',''))"
   ]
  },
  {
   "cell_type": "code",
   "execution_count": 41,
   "metadata": {},
   "outputs": [
    {
     "data": {
      "text/plain": [
       "[\"Children's / Picture Book\",\n",
       " 'Nonfiction / History / American History',\n",
       " 'Fiction / Literary Fiction',\n",
       " 'Mystery & Suspense / Mystery',\n",
       " 'Audio / Nonfiction / Essays']"
      ]
     },
     "execution_count": 41,
     "metadata": {},
     "output_type": "execute_result"
    }
   ],
   "source": [
    "book_genre"
   ]
  },
  {
   "cell_type": "code",
   "execution_count": 42,
   "metadata": {},
   "outputs": [],
   "source": [
    "bookreview=soup.find_all('p',class_='excerpt')"
   ]
  },
  {
   "cell_type": "code",
   "execution_count": 43,
   "metadata": {},
   "outputs": [
    {
     "data": {
      "text/plain": [
       "[<p class=\"excerpt\">\n",
       " <p><strong>Keep Your Head Up</strong> is a simple and powerful reminder not to let bad days get us down.</p>\n",
       " </p>,\n",
       " <p class=\"excerpt\">\n",
       " Pulitzer Prize-winning historian Joseph J. Ellis superbly captures the issues, personalities and events of the American Revolution in The Cause.\n",
       " </p>,\n",
       " <p class=\"excerpt\">\n",
       " Ruth Ozeki’s prose is magnetic as she draws readers along, teasing out an ethereal and haunting quality through a special narrator: that of a sentient Book.\n",
       " </p>,\n",
       " <p class=\"excerpt\">\n",
       " <p><strong>Daughter of the Morning Star</strong>, the 17th book in Craig Johnson’s riveting mystery series, proves that Sheriff Walt Longmire does his best work on the page, even compared to the acclaimed Netflix adaptation of the series, “Longmire.”</p>\n",
       " </p>,\n",
       " <p class=\"excerpt\">\n",
       " While John Lewis was unable to record his essays himself, Don Cheadle more than succeeds in embodying the congressman’s message of hope.\n",
       " </p>,\n",
       " <p class=\"excerpt\">\n",
       " The Morning Star is dark, eerie, mesmerizing and, yes, totally worth the mental stamina required to get through it.\n",
       " </p>,\n",
       " <p class=\"excerpt\">\n",
       " <p>In a return to the fantasy genre of her Newbery Medal-winning <em>The Tale of Despereaux</em>, author Kate DiCamillo spins the tale of a young girl named Beatryce, who is discovered in a monastery barn in the company of an unlikely source of comfort: a frighteningly ornery goat named Answelica.</p>\n",
       " </p>,\n",
       " <p class=\"excerpt\">\n",
       " “Writing does not force coherence onto a discordant narrative,” Rabih Alameddine writes in his latest novel, a slippery tale of seeking and messy in-betweens.\n",
       " </p>,\n",
       " <p class=\"excerpt\">\n",
       " <strong>The Speckled Beauty</strong> confirms Rick Bragg’s enduring artfulness and cracking good ability to spin memorable, affectionate tales.\n",
       " </p>,\n",
       " <p class=\"excerpt\">\n",
       " <p>Author-illustrator Phoebe Wahl’s fourth picture book, <strong>Little Witch Hazel: A Year in the Forest</strong>, has a charming woodsy setting that readers will find enchanting.</p>\n",
       " </p>]"
      ]
     },
     "execution_count": 43,
     "metadata": {},
     "output_type": "execute_result"
    }
   ],
   "source": [
    "bookreview"
   ]
  },
  {
   "cell_type": "code",
   "execution_count": 44,
   "metadata": {},
   "outputs": [
    {
     "data": {
      "text/plain": [
       "['Keep Your Head Up is a simple and powerful reminder not to let bad days get us down.',\n",
       " 'Pulitzer Prize-winning historian Joseph J. Ellis superbly captures the issues, personalities and events of the American Revolution in The Cause.',\n",
       " 'Ruth Ozeki’s prose is magnetic as she draws readers along, teasing out an ethereal and haunting quality through a special narrator: that of a sentient Book.',\n",
       " 'Daughter of the Morning Star, the 17th book in Craig Johnson’s riveting mystery series, proves that Sheriff Walt Longmire does his best work on the page, even compared to the acclaimed Netflix adaptation of the series, “Longmire.”',\n",
       " 'While John Lewis was unable to record his essays himself, Don Cheadle more than succeeds in embodying the congressman’s message of hope.']"
      ]
     },
     "execution_count": 44,
     "metadata": {},
     "output_type": "execute_result"
    }
   ],
   "source": [
    "book_review=[]\n",
    "for i in bookreview[:5]:\n",
    "    book_review.append(i.text.strip())\n",
    "book_review"
   ]
  },
  {
   "cell_type": "code",
   "execution_count": 45,
   "metadata": {},
   "outputs": [
    {
     "data": {
      "text/html": [
       "<div>\n",
       "<style scoped>\n",
       "    .dataframe tbody tr th:only-of-type {\n",
       "        vertical-align: middle;\n",
       "    }\n",
       "\n",
       "    .dataframe tbody tr th {\n",
       "        vertical-align: top;\n",
       "    }\n",
       "\n",
       "    .dataframe thead th {\n",
       "        text-align: right;\n",
       "    }\n",
       "</style>\n",
       "<table border=\"1\" class=\"dataframe\">\n",
       "  <thead>\n",
       "    <tr style=\"text-align: right;\">\n",
       "      <th></th>\n",
       "      <th>Bookname</th>\n",
       "      <th>Author Name</th>\n",
       "      <th>Genre</th>\n",
       "      <th>Review</th>\n",
       "    </tr>\n",
       "  </thead>\n",
       "  <tbody>\n",
       "    <tr>\n",
       "      <th>0</th>\n",
       "      <td>Keep Your Head Up</td>\n",
       "      <td>Aliya King Neil, Charly Palmer</td>\n",
       "      <td>Children's / Picture Book</td>\n",
       "      <td>Keep Your Head Up is a simple and powerful rem...</td>\n",
       "    </tr>\n",
       "    <tr>\n",
       "      <th>1</th>\n",
       "      <td>★ The Cause</td>\n",
       "      <td>Joseph J. Ellis</td>\n",
       "      <td>Nonfiction / History / American History</td>\n",
       "      <td>Pulitzer Prize-winning historian Joseph J. Ell...</td>\n",
       "    </tr>\n",
       "    <tr>\n",
       "      <th>2</th>\n",
       "      <td>★ The Book of Form and Emptiness</td>\n",
       "      <td>Ruth Ozeki</td>\n",
       "      <td>Fiction / Literary Fiction</td>\n",
       "      <td>Ruth Ozeki’s prose is magnetic as she draws re...</td>\n",
       "    </tr>\n",
       "    <tr>\n",
       "      <th>3</th>\n",
       "      <td>Daughter of the Morning Star</td>\n",
       "      <td>Craig Johnson</td>\n",
       "      <td>Mystery &amp; Suspense / Mystery</td>\n",
       "      <td>Daughter of the Morning Star, the 17th book in...</td>\n",
       "    </tr>\n",
       "    <tr>\n",
       "      <th>4</th>\n",
       "      <td>★ Carry On</td>\n",
       "      <td>John Lewis, Don Cheadle</td>\n",
       "      <td>Audio / Nonfiction / Essays</td>\n",
       "      <td>While John Lewis was unable to record his essa...</td>\n",
       "    </tr>\n",
       "  </tbody>\n",
       "</table>\n",
       "</div>"
      ],
      "text/plain": [
       "                           Bookname                     Author Name  \\\n",
       "0                 Keep Your Head Up  Aliya King Neil, Charly Palmer   \n",
       "1                       ★ The Cause                 Joseph J. Ellis   \n",
       "2  ★ The Book of Form and Emptiness                      Ruth Ozeki   \n",
       "3      Daughter of the Morning Star                   Craig Johnson   \n",
       "4                        ★ Carry On         John Lewis, Don Cheadle   \n",
       "\n",
       "                                     Genre  \\\n",
       "0                Children's / Picture Book   \n",
       "1  Nonfiction / History / American History   \n",
       "2               Fiction / Literary Fiction   \n",
       "3             Mystery & Suspense / Mystery   \n",
       "4              Audio / Nonfiction / Essays   \n",
       "\n",
       "                                              Review  \n",
       "0  Keep Your Head Up is a simple and powerful rem...  \n",
       "1  Pulitzer Prize-winning historian Joseph J. Ell...  \n",
       "2  Ruth Ozeki’s prose is magnetic as she draws re...  \n",
       "3  Daughter of the Morning Star, the 17th book in...  \n",
       "4  While John Lewis was unable to record his essa...  "
      ]
     },
     "execution_count": 45,
     "metadata": {},
     "output_type": "execute_result"
    }
   ],
   "source": [
    "book=pd.DataFrame({})\n",
    "book['Bookname']=book_name\n",
    "book['Author Name']=book_author\n",
    "book['Genre']=book_genre\n",
    "book['Review']=book_review\n",
    "book"
   ]
  },
  {
   "cell_type": "code",
   "execution_count": null,
   "metadata": {},
   "outputs": [],
   "source": []
  }
 ],
 "metadata": {
  "kernelspec": {
   "display_name": "Python 3",
   "language": "python",
   "name": "python3"
  },
  "language_info": {
   "codemirror_mode": {
    "name": "ipython",
    "version": 3
   },
   "file_extension": ".py",
   "mimetype": "text/x-python",
   "name": "python",
   "nbconvert_exporter": "python",
   "pygments_lexer": "ipython3",
   "version": "3.8.5"
  }
 },
 "nbformat": 4,
 "nbformat_minor": 4
}
