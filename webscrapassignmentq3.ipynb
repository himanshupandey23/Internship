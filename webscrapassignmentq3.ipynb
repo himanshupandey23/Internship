{
 "cells": [
  {
   "cell_type": "code",
   "execution_count": null,
   "metadata": {},
   "outputs": [],
   "source": [
    "# q1 puthon program to display al headers tags from main page of en.wikipeidia\n",
    "\n",
    "!pip install bs4\n",
    "!pip install requests"
   ]
  },
  {
   "cell_type": "code",
   "execution_count": null,
   "metadata": {},
   "outputs": [],
   "source": [
    "import pandas as pd\n",
    "from bs4 import BeautifulSoup\n",
    "import requests\n",
    "from lxml import html"
   ]
  },
  {
   "cell_type": "code",
   "execution_count": null,
   "metadata": {},
   "outputs": [],
   "source": [
    "wikipage=requests.get(\"https://en.wikipedia.org/wiki/Main_Page\")\n",
    "wikipage"
   ]
  },
  {
   "cell_type": "code",
   "execution_count": null,
   "metadata": {},
   "outputs": [],
   "source": [
    "wikipage.content"
   ]
  },
  {
   "cell_type": "code",
   "execution_count": null,
   "metadata": {},
   "outputs": [],
   "source": [
    "soup = BeautifulSoup(wikipage.content)\n",
    "soup"
   ]
  },
  {
   "cell_type": "code",
   "execution_count": null,
   "metadata": {},
   "outputs": [],
   "source": [
    "print(soup.prettify)"
   ]
  },
  {
   "cell_type": "code",
   "execution_count": null,
   "metadata": {},
   "outputs": [],
   "source": [
    "headers=soup.find_all('span',class_='mw-headline')\n",
    "headers"
   ]
  },
  {
   "cell_type": "code",
   "execution_count": null,
   "metadata": {},
   "outputs": [],
   "source": [
    "wiki_headers = []\n",
    "for i in headers:\n",
    "    wiki_headers.append(i.text.strip())\n",
    "wiki_headers"
   ]
  },
  {
   "cell_type": "code",
   "execution_count": 47,
   "metadata": {},
   "outputs": [
    {
     "data": {
      "text/html": [
       "<div>\n",
       "<style scoped>\n",
       "    .dataframe tbody tr th:only-of-type {\n",
       "        vertical-align: middle;\n",
       "    }\n",
       "\n",
       "    .dataframe tbody tr th {\n",
       "        vertical-align: top;\n",
       "    }\n",
       "\n",
       "    .dataframe thead th {\n",
       "        text-align: right;\n",
       "    }\n",
       "</style>\n",
       "<table border=\"1\" class=\"dataframe\">\n",
       "  <thead>\n",
       "    <tr style=\"text-align: right;\">\n",
       "      <th></th>\n",
       "      <th>Headertag</th>\n",
       "    </tr>\n",
       "  </thead>\n",
       "  <tbody>\n",
       "    <tr>\n",
       "      <th>0</th>\n",
       "      <td>From today's featured article</td>\n",
       "    </tr>\n",
       "    <tr>\n",
       "      <th>1</th>\n",
       "      <td>Did you know ...</td>\n",
       "    </tr>\n",
       "    <tr>\n",
       "      <th>2</th>\n",
       "      <td>In the news</td>\n",
       "    </tr>\n",
       "    <tr>\n",
       "      <th>3</th>\n",
       "      <td>On this day</td>\n",
       "    </tr>\n",
       "    <tr>\n",
       "      <th>4</th>\n",
       "      <td>Today's featured picture</td>\n",
       "    </tr>\n",
       "    <tr>\n",
       "      <th>5</th>\n",
       "      <td>Other areas of Wikipedia</td>\n",
       "    </tr>\n",
       "    <tr>\n",
       "      <th>6</th>\n",
       "      <td>Wikipedia's sister projects</td>\n",
       "    </tr>\n",
       "    <tr>\n",
       "      <th>7</th>\n",
       "      <td>Wikipedia languages</td>\n",
       "    </tr>\n",
       "  </tbody>\n",
       "</table>\n",
       "</div>"
      ],
      "text/plain": [
       "                       Headertag\n",
       "0  From today's featured article\n",
       "1               Did you know ...\n",
       "2                    In the news\n",
       "3                    On this day\n",
       "4       Today's featured picture\n",
       "5       Other areas of Wikipedia\n",
       "6    Wikipedia's sister projects\n",
       "7            Wikipedia languages"
      ]
     },
     "execution_count": 47,
     "metadata": {},
     "output_type": "execute_result"
    }
   ],
   "source": [
    "headertag=pd.DataFrame({})\n",
    "headertag['Headertag']=wiki_headers\n",
    "headertag\n"
   ]
  },
  {
   "cell_type": "code",
   "execution_count": null,
   "metadata": {},
   "outputs": [],
   "source": [
    "# Write a python program to display IMDB’s Top rated 100 movies’ data (i.e. Name, IMDB rating, Year of rle)\n",
    "\n"
   ]
  },
  {
   "cell_type": "code",
   "execution_count": null,
   "metadata": {},
   "outputs": [],
   "source": [
    "import pandas as pd \n",
    "from bs4 import BeautifulSoup\n",
    "import requests\n",
    "from lxml import html"
   ]
  },
  {
   "cell_type": "code",
   "execution_count": null,
   "metadata": {},
   "outputs": [],
   "source": [
    "top100IMDB=requests.get(\"https://www.imdb.com/list/ls055592025/\")\n",
    "top100IMDB"
   ]
  },
  {
   "cell_type": "code",
   "execution_count": null,
   "metadata": {},
   "outputs": [],
   "source": [
    "top100IMDB.content"
   ]
  },
  {
   "cell_type": "code",
   "execution_count": null,
   "metadata": {},
   "outputs": [],
   "source": [
    "soup=BeautifulSoup(top100IMDB.content)\n",
    "soup"
   ]
  },
  {
   "cell_type": "code",
   "execution_count": null,
   "metadata": {},
   "outputs": [],
   "source": [
    "print(soup.prettify)"
   ]
  },
  {
   "cell_type": "code",
   "execution_count": null,
   "metadata": {},
   "outputs": [],
   "source": [
    "movies_name=soup.find_all('h3',class_=\"lister-item-header\")\n",
    "movies_name\n",
    "                    "
   ]
  },
  {
   "cell_type": "code",
   "execution_count": null,
   "metadata": {},
   "outputs": [],
   "source": [
    "top_movies=[]\n",
    "for i in movies_name:\n",
    "    top_movies.append(i.text.replace('\\n',''))\n",
    "top_movies\n",
    "    \n",
    "    "
   ]
  },
  {
   "cell_type": "code",
   "execution_count": null,
   "metadata": {},
   "outputs": [],
   "source": [
    "year_release=soup.find_all('span',class_='lister-item-year text-muted unbold')\n",
    "year_release"
   ]
  },
  {
   "cell_type": "code",
   "execution_count": null,
   "metadata": {},
   "outputs": [],
   "source": [
    "YROFREL=[]\n",
    "for i in year_release:\n",
    "    YROFREL.append(i.text.strip())\n",
    "YROFREL\n",
    "    \n"
   ]
  },
  {
   "cell_type": "code",
   "execution_count": null,
   "metadata": {},
   "outputs": [],
   "source": [
    "IMDB_rating=soup.find_all('div',class_='ipl-rating-star small')\n",
    "IMDB_rating"
   ]
  },
  {
   "cell_type": "code",
   "execution_count": null,
   "metadata": {},
   "outputs": [],
   "source": [
    "rating_movies=[]\n",
    "for i in IMDB_rating:\n",
    "    rating_movies.append(i.text.strip())\n",
    "rating_movies"
   ]
  },
  {
   "cell_type": "code",
   "execution_count": 45,
   "metadata": {},
   "outputs": [
    {
     "data": {
      "text/html": [
       "<div>\n",
       "<style scoped>\n",
       "    .dataframe tbody tr th:only-of-type {\n",
       "        vertical-align: middle;\n",
       "    }\n",
       "\n",
       "    .dataframe tbody tr th {\n",
       "        vertical-align: top;\n",
       "    }\n",
       "\n",
       "    .dataframe thead th {\n",
       "        text-align: right;\n",
       "    }\n",
       "</style>\n",
       "<table border=\"1\" class=\"dataframe\">\n",
       "  <thead>\n",
       "    <tr style=\"text-align: right;\">\n",
       "      <th></th>\n",
       "      <th>TOP100 movies</th>\n",
       "      <th>IMDB rating</th>\n",
       "      <th>Year of release</th>\n",
       "    </tr>\n",
       "  </thead>\n",
       "  <tbody>\n",
       "    <tr>\n",
       "      <th>0</th>\n",
       "      <td>1.The Godfather(1972)</td>\n",
       "      <td>9.2</td>\n",
       "      <td>(1972)</td>\n",
       "    </tr>\n",
       "    <tr>\n",
       "      <th>1</th>\n",
       "      <td>2.The Shawshank Redemption(1994)</td>\n",
       "      <td>9.3</td>\n",
       "      <td>(1994)</td>\n",
       "    </tr>\n",
       "    <tr>\n",
       "      <th>2</th>\n",
       "      <td>3.Schindler's List(1993)</td>\n",
       "      <td>8.9</td>\n",
       "      <td>(1993)</td>\n",
       "    </tr>\n",
       "    <tr>\n",
       "      <th>3</th>\n",
       "      <td>4.Raging Bull(1980)</td>\n",
       "      <td>8.2</td>\n",
       "      <td>(1980)</td>\n",
       "    </tr>\n",
       "    <tr>\n",
       "      <th>4</th>\n",
       "      <td>5.Casablanca(1942)</td>\n",
       "      <td>8.5</td>\n",
       "      <td>(1942)</td>\n",
       "    </tr>\n",
       "    <tr>\n",
       "      <th>...</th>\n",
       "      <td>...</td>\n",
       "      <td>...</td>\n",
       "      <td>...</td>\n",
       "    </tr>\n",
       "    <tr>\n",
       "      <th>95</th>\n",
       "      <td>96.Rear Window(1954)</td>\n",
       "      <td>8.5</td>\n",
       "      <td>(1954)</td>\n",
       "    </tr>\n",
       "    <tr>\n",
       "      <th>96</th>\n",
       "      <td>97.The Third Man(1949)</td>\n",
       "      <td>8.1</td>\n",
       "      <td>(1949)</td>\n",
       "    </tr>\n",
       "    <tr>\n",
       "      <th>97</th>\n",
       "      <td>98.Rebel Without a Cause(1955)</td>\n",
       "      <td>7.7</td>\n",
       "      <td>(1955)</td>\n",
       "    </tr>\n",
       "    <tr>\n",
       "      <th>98</th>\n",
       "      <td>99.North by Northwest(1959)</td>\n",
       "      <td>8.3</td>\n",
       "      <td>(1959)</td>\n",
       "    </tr>\n",
       "    <tr>\n",
       "      <th>99</th>\n",
       "      <td>100.Yankee Doodle Dandy(1942)</td>\n",
       "      <td>7.7</td>\n",
       "      <td>(1942)</td>\n",
       "    </tr>\n",
       "  </tbody>\n",
       "</table>\n",
       "<p>100 rows × 3 columns</p>\n",
       "</div>"
      ],
      "text/plain": [
       "                       TOP100 movies IMDB rating Year of release\n",
       "0              1.The Godfather(1972)         9.2          (1972)\n",
       "1   2.The Shawshank Redemption(1994)         9.3          (1994)\n",
       "2           3.Schindler's List(1993)         8.9          (1993)\n",
       "3                4.Raging Bull(1980)         8.2          (1980)\n",
       "4                 5.Casablanca(1942)         8.5          (1942)\n",
       "..                               ...         ...             ...\n",
       "95              96.Rear Window(1954)         8.5          (1954)\n",
       "96            97.The Third Man(1949)         8.1          (1949)\n",
       "97    98.Rebel Without a Cause(1955)         7.7          (1955)\n",
       "98       99.North by Northwest(1959)         8.3          (1959)\n",
       "99     100.Yankee Doodle Dandy(1942)         7.7          (1942)\n",
       "\n",
       "[100 rows x 3 columns]"
      ]
     },
     "execution_count": 45,
     "metadata": {},
     "output_type": "execute_result"
    }
   ],
   "source": [
    "topmovies=pd.DataFrame({})\n",
    "topmovies['TOP100 movies']=top_movies\n",
    "topmovies['IMDB rating']=rating_movies\n",
    "topmovies['Year of release']=YROFREL\n",
    "topmovies"
   ]
  },
  {
   "cell_type": "code",
   "execution_count": null,
   "metadata": {},
   "outputs": [],
   "source": [
    "#rite a python program to scrap book name, author name, genre and book review of any 5 books from www.bookpage\n"
   ]
  },
  {
   "cell_type": "code",
   "execution_count": null,
   "metadata": {},
   "outputs": [],
   "source": [
    "import pandas as pd \n",
    "from bs4 import BeautifulSoup\n",
    "import requests\n",
    "from lxml import html"
   ]
  },
  {
   "cell_type": "code",
   "execution_count": null,
   "metadata": {},
   "outputs": [],
   "source": [
    "import urllib.request\n",
    "main_url = 'https://bookpage.com/reviews'\n",
    "sauce = urllib.request.urlopen(main_url).read()\n",
    "\n",
    "soup = BeautifulSoup(sauce,'html.parser')"
   ]
  },
  {
   "cell_type": "code",
   "execution_count": null,
   "metadata": {},
   "outputs": [],
   "source": [
    "bookname=soup.find_all('h4',class_='italic')\n",
    "bookname"
   ]
  },
  {
   "cell_type": "code",
   "execution_count": null,
   "metadata": {},
   "outputs": [],
   "source": [
    "book_name=[]\n",
    "for i in bookname[:5]:\n",
    "    book_name.append(i.text.strip())\n",
    "book_name"
   ]
  },
  {
   "cell_type": "code",
   "execution_count": null,
   "metadata": {},
   "outputs": [],
   "source": [
    "bookauthor=soup.find_all('p',class_='sans bold')\n",
    "bookauthor"
   ]
  },
  {
   "cell_type": "code",
   "execution_count": null,
   "metadata": {},
   "outputs": [],
   "source": [
    "book_author=[]\n",
    "for i in bookauthor[:5]:\n",
    "    book_author.append(i.text.strip())\n",
    "book_author"
   ]
  },
  {
   "cell_type": "code",
   "execution_count": null,
   "metadata": {},
   "outputs": [],
   "source": [
    "bookgenre=soup.find_all('p',class_='genre-links hidden-phone')\n",
    "bookgenre"
   ]
  },
  {
   "cell_type": "code",
   "execution_count": null,
   "metadata": {},
   "outputs": [],
   "source": [
    "book_genre=[]\n",
    "for i in bookgenre[:5]:\n",
    "    book_genre.append(i.text.strip())"
   ]
  },
  {
   "cell_type": "code",
   "execution_count": null,
   "metadata": {},
   "outputs": [],
   "source": [
    "book_genre"
   ]
  },
  {
   "cell_type": "code",
   "execution_count": null,
   "metadata": {},
   "outputs": [],
   "source": [
    "bookreview=soup.find_all('p',class_='excerpt')"
   ]
  },
  {
   "cell_type": "code",
   "execution_count": null,
   "metadata": {},
   "outputs": [],
   "source": [
    "bookreview"
   ]
  },
  {
   "cell_type": "code",
   "execution_count": null,
   "metadata": {},
   "outputs": [],
   "source": [
    "book_review=[]\n",
    "for i in bookreview[:5]:\n",
    "    book_review.append(i.text.strip())\n",
    "book_review"
   ]
  },
  {
   "cell_type": "code",
   "execution_count": 46,
   "metadata": {},
   "outputs": [
    {
     "data": {
      "text/html": [
       "<div>\n",
       "<style scoped>\n",
       "    .dataframe tbody tr th:only-of-type {\n",
       "        vertical-align: middle;\n",
       "    }\n",
       "\n",
       "    .dataframe tbody tr th {\n",
       "        vertical-align: top;\n",
       "    }\n",
       "\n",
       "    .dataframe thead th {\n",
       "        text-align: right;\n",
       "    }\n",
       "</style>\n",
       "<table border=\"1\" class=\"dataframe\">\n",
       "  <thead>\n",
       "    <tr style=\"text-align: right;\">\n",
       "      <th></th>\n",
       "      <th>Bookname</th>\n",
       "      <th>Author Name</th>\n",
       "      <th>Genre</th>\n",
       "      <th>Review</th>\n",
       "    </tr>\n",
       "  </thead>\n",
       "  <tbody>\n",
       "    <tr>\n",
       "      <th>0</th>\n",
       "      <td>★ The Book of Form and Emptiness</td>\n",
       "      <td>Ruth Ozeki</td>\n",
       "      <td>Fiction\\n / \\nLiterary Fiction</td>\n",
       "      <td>Ruth Ozeki’s prose is magnetic as she draws re...</td>\n",
       "    </tr>\n",
       "    <tr>\n",
       "      <th>1</th>\n",
       "      <td>Daughter of the Morning Star</td>\n",
       "      <td>Craig Johnson</td>\n",
       "      <td>Mystery &amp; Suspense\\n / \\nMystery</td>\n",
       "      <td>Daughter of the Morning Star, the 17th book in...</td>\n",
       "    </tr>\n",
       "    <tr>\n",
       "      <th>2</th>\n",
       "      <td>★ Carry On</td>\n",
       "      <td>John Lewis, Don Cheadle</td>\n",
       "      <td>Audio\\n / \\nNonfiction\\n / \\nEssays</td>\n",
       "      <td>While John Lewis was unable to record his essa...</td>\n",
       "    </tr>\n",
       "    <tr>\n",
       "      <th>3</th>\n",
       "      <td>The Morning Star</td>\n",
       "      <td>Karl Ove Knausgaard, Martin Aitken</td>\n",
       "      <td>Fiction\\n / \\nLiterary Fiction</td>\n",
       "      <td>The Morning Star is dark, eerie, mesmerizing a...</td>\n",
       "    </tr>\n",
       "    <tr>\n",
       "      <th>4</th>\n",
       "      <td>★ The Beatryce Prophecy</td>\n",
       "      <td>Kate DiCamillo, Sophie Blackall</td>\n",
       "      <td>Children's\\n / \\nMiddle Grade</td>\n",
       "      <td>In a return to the fantasy genre of her Newber...</td>\n",
       "    </tr>\n",
       "  </tbody>\n",
       "</table>\n",
       "</div>"
      ],
      "text/plain": [
       "                           Bookname                         Author Name  \\\n",
       "0  ★ The Book of Form and Emptiness                          Ruth Ozeki   \n",
       "1      Daughter of the Morning Star                       Craig Johnson   \n",
       "2                        ★ Carry On             John Lewis, Don Cheadle   \n",
       "3                  The Morning Star  Karl Ove Knausgaard, Martin Aitken   \n",
       "4           ★ The Beatryce Prophecy     Kate DiCamillo, Sophie Blackall   \n",
       "\n",
       "                                 Genre  \\\n",
       "0       Fiction\\n / \\nLiterary Fiction   \n",
       "1     Mystery & Suspense\\n / \\nMystery   \n",
       "2  Audio\\n / \\nNonfiction\\n / \\nEssays   \n",
       "3       Fiction\\n / \\nLiterary Fiction   \n",
       "4        Children's\\n / \\nMiddle Grade   \n",
       "\n",
       "                                              Review  \n",
       "0  Ruth Ozeki’s prose is magnetic as she draws re...  \n",
       "1  Daughter of the Morning Star, the 17th book in...  \n",
       "2  While John Lewis was unable to record his essa...  \n",
       "3  The Morning Star is dark, eerie, mesmerizing a...  \n",
       "4  In a return to the fantasy genre of her Newber...  "
      ]
     },
     "execution_count": 46,
     "metadata": {},
     "output_type": "execute_result"
    }
   ],
   "source": [
    "book=pd.DataFrame({})\n",
    "book['Bookname']=book_name\n",
    "book['Author Name']=book_author\n",
    "book['Genre']=book_genre\n",
    "book['Review']=book_review\n",
    "book"
   ]
  },
  {
   "cell_type": "code",
   "execution_count": null,
   "metadata": {},
   "outputs": [],
   "source": []
  }
 ],
 "metadata": {
  "kernelspec": {
   "display_name": "Python 3",
   "language": "python",
   "name": "python3"
  },
  "language_info": {
   "codemirror_mode": {
    "name": "ipython",
    "version": 3
   },
   "file_extension": ".py",
   "mimetype": "text/x-python",
   "name": "python",
   "nbconvert_exporter": "python",
   "pygments_lexer": "ipython3",
   "version": "3.8.5"
  }
 },
 "nbformat": 4,
 "nbformat_minor": 4
}
